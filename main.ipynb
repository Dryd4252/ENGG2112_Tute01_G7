{
 "cells": [
  {
   "cell_type": "markdown",
   "id": "c135d142-559f-4cd9-a680-4889a5e26006",
   "metadata": {},
   "source": [
    "ENGG2112: Using machine learning to find potential HTSs\n",
    "="
   ]
  },
  {
   "cell_type": "code",
   "execution_count": 1,
   "id": "649001d0-4e67-41f9-8527-95f8f6fabb09",
   "metadata": {},
   "outputs": [],
   "source": [
    "def classify_model_performance(y_test, y_predicted):\n",
    "    mse = mean_squared_error(y_test, y_predicted)\n",
    "    rmse = np.sqrt(mse)\n",
    "    mae = mean_absolute_error(y_test, y_predicted)\n",
    "    r2 = r2_score(y_test, y_predicted)\n",
    "    return mse, rmse, mae, r2"
   ]
  },
  {
   "cell_type": "markdown",
   "id": "eb15c6b0-d122-422e-86f4-b7837d6b4884",
   "metadata": {},
   "source": [
    "### Subproblem A: Training regression models to predict the critical temperature from various material properties"
   ]
  },
  {
   "cell_type": "code",
   "execution_count": 2,
   "id": "78f0a764-8a63-437d-9946-21bd91b29ccd",
   "metadata": {
    "scrolled": true
   },
   "outputs": [],
   "source": [
    "import pandas as pd\n",
    "\n",
    "raw_material_features = pd.read_csv(\"train.csv\")"
   ]
  },
  {
   "cell_type": "code",
   "execution_count": null,
   "id": "b5827db1-7f2a-456a-817d-0667d7b4426a",
   "metadata": {},
   "outputs": [],
   "source": [
    "### Linear Regression Model"
   ]
  },
  {
   "cell_type": "code",
   "execution_count": null,
   "id": "7446f9dd-b5a3-448f-b7a0-bfd517936e01",
   "metadata": {},
   "outputs": [],
   "source": [
    "### Random Forest Regression"
   ]
  },
  {
   "cell_type": "code",
   "execution_count": null,
   "id": "3705d489-1d13-4fc8-a2d4-dada73499289",
   "metadata": {},
   "outputs": [],
   "source": [
    "### Multilayer Perceptron"
   ]
  },
  {
   "cell_type": "code",
   "execution_count": null,
   "id": "a3e4a6b9-3ea9-49c4-b128-f05939ec09d6",
   "metadata": {},
   "outputs": [],
   "source": [
    "### Extreme Gradient Boost\n",
    "import pandas as pd\n",
    "import numpy as np\n",
    "from xgboost import XGBRegressor\n",
    "from sklearn.model_selection import train_test_split\n",
    "from sklearn.pipeline import Pipeline\n",
    "from sklearn.preprocessing import StandardScaler\n",
    "from sklearn.metrics import accuracy_score, confusion_matrix,roc_auc_score\n",
    "from sklearn.metrics import mean_squared_error, mean_absolute_error, r2_score\n",
    "\n",
    "properties = pd.read_csv('train.csv')\n",
    "\n",
    "# pre-processing\n",
    "properties = properties.dropna()\n",
    "\n",
    "# configure parameters and hyperparameters\n",
    "xgb_model = XGBRegressor(\n",
    "    n_estimators=100,     # number of boosting rounds\n",
    "    learning_rate=0.1,    # step size shrinkage\n",
    "    max_depth=5,          # depth of each tree\n",
    "    random_state=10       # reproducibility\n",
    ")\n",
    "\n",
    "# making pipeline\n",
    "steps = [\n",
    "    ('scaler', StandardScaler()),\n",
    "    ('model', xgb_model)\n",
    "    ]\n",
    "\n",
    "\n",
    "# form train-test split\n",
    "X = properties.drop(columns=\"critical_temp\")\n",
    "y = properties[\"critical_temp\"]\n",
    "X_train, X_test, y_train, y_test = train_test_split(X, y, random_state=0)\n",
    "\n",
    "# train and test the model\n",
    "xgb_pipeline = Pipeline(steps).fit(X_train, y_train)\n",
    "xgb_pred = xgb_pipeline.predict(X_test)\n",
    "\n",
    "print(classify_model_performance(y_test, xgb_pred))"
   ]
  },
  {
   "cell_type": "markdown",
   "id": "79344d5d-bf8e-4033-8422-9e7b59d8640e",
   "metadata": {},
   "source": [
    "### Subproblem B: Training regression models to predict chemical formulas from material properties"
   ]
  },
  {
   "cell_type": "code",
   "execution_count": null,
   "id": "80122343-ddc0-43ef-9422-5902c4b45110",
   "metadata": {
    "scrolled": true
   },
   "outputs": [],
   "source": [
    "import pandas as pd\n",
    "\n",
    "raw_material_formulas = pd.read_csv(\"unique_m.csv\")"
   ]
  },
  {
   "cell_type": "code",
   "execution_count": null,
   "id": "bd37b8e6-e010-4044-862b-2db951138b21",
   "metadata": {},
   "outputs": [],
   "source": [
    "### Linear Regression Model"
   ]
  },
  {
   "cell_type": "code",
   "execution_count": null,
   "id": "3e2b4486-90d5-4464-9cb2-c753b0239ea1",
   "metadata": {},
   "outputs": [],
   "source": [
    "### Random Forest Regression"
   ]
  },
  {
   "cell_type": "code",
   "execution_count": null,
   "id": "503e4204-c780-4dc8-8378-50372e65a60f",
   "metadata": {},
   "outputs": [],
   "source": [
    "### Multilayer Perceptron"
   ]
  },
  {
   "cell_type": "code",
   "execution_count": null,
   "id": "d04e41dd-89d5-41e2-93e0-478d92b83218",
   "metadata": {},
   "outputs": [],
   "source": [
    "### Extreme Gradient Boost"
   ]
  },
  {
   "cell_type": "markdown",
   "id": "6153bb52-b929-4814-a7e2-fe244919302e",
   "metadata": {},
   "source": [
    "### Finding candidate meterials that could have high ciritical temperatures "
   ]
  },
  {
   "cell_type": "code",
   "execution_count": null,
   "id": "3883be03-03f2-4663-b093-67e6ed910cb2",
   "metadata": {},
   "outputs": [],
   "source": [
    "# IDK yet lmao"
   ]
  }
 ],
 "metadata": {
  "kernelspec": {
   "display_name": "Python 3",
   "language": "python",
   "name": "python3"
  },
  "language_info": {
   "codemirror_mode": {
    "name": "ipython",
    "version": 3
   },
   "file_extension": ".py",
   "mimetype": "text/x-python",
   "name": "python",
   "nbconvert_exporter": "python",
   "pygments_lexer": "ipython3",
   "version": "3.13.2"
  }
 },
 "nbformat": 4,
 "nbformat_minor": 5
}
