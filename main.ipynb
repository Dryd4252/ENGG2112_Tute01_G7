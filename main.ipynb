{
 "cells": [
  {
   "cell_type": "markdown",
   "id": "c135d142-559f-4cd9-a680-4889a5e26006",
   "metadata": {},
   "source": [
    "ENGG2112: Using machine learning to find potential HTSs\n",
    "="
   ]
  },
  {
   "cell_type": "code",
   "execution_count": 1,
   "id": "649001d0-4e67-41f9-8527-95f8f6fabb09",
   "metadata": {},
   "outputs": [],
   "source": [
    "def classify_model_performance(y_test, y_predicted):\n",
    "    mse = mean_squared_error(y_test, y_predicted)\n",
    "    rmse = np.sqrt(mse)\n",
    "    mae = mean_absolute_error(y_test, y_predicted)\n",
    "    r2 = r2_score(y_test, y_predicted)\n",
    "    return mse, rmse, mae, r2"
   ]
  },
  {
   "cell_type": "markdown",
   "id": "eb15c6b0-d122-422e-86f4-b7837d6b4884",
   "metadata": {},
   "source": [
    "### Subproblem A: Training regression models to predict the critical temperature from various material properties"
   ]
  },
  {
   "cell_type": "code",
   "execution_count": 16,
   "id": "78f0a764-8a63-437d-9946-21bd91b29ccd",
   "metadata": {
    "scrolled": true
   },
   "outputs": [
    {
     "name": "stdout",
     "output_type": "stream",
     "text": [
      "number of nans: 0\n",
      "Index(['number_of_elements', 'mean_atomic_mass', 'wtd_mean_atomic_mass',\n",
      "       'gmean_atomic_mass', 'wtd_gmean_atomic_mass', 'entropy_atomic_mass',\n",
      "       'wtd_entropy_atomic_mass', 'range_atomic_mass', 'wtd_range_atomic_mass',\n",
      "       'std_atomic_mass', 'wtd_std_atomic_mass', 'mean_fie', 'wtd_mean_fie',\n",
      "       'gmean_fie', 'wtd_gmean_fie', 'entropy_fie', 'wtd_entropy_fie',\n",
      "       'range_fie', 'wtd_range_fie', 'std_fie', 'wtd_std_fie',\n",
      "       'mean_atomic_radius', 'wtd_mean_atomic_radius', 'gmean_atomic_radius',\n",
      "       'wtd_gmean_atomic_radius', 'entropy_atomic_radius',\n",
      "       'wtd_entropy_atomic_radius', 'range_atomic_radius',\n",
      "       'wtd_range_atomic_radius', 'std_atomic_radius', 'wtd_std_atomic_radius',\n",
      "       'mean_Density', 'wtd_mean_Density', 'gmean_Density',\n",
      "       'wtd_gmean_Density', 'entropy_Density', 'wtd_entropy_Density',\n",
      "       'range_Density', 'wtd_range_Density', 'std_Density', 'wtd_std_Density',\n",
      "       'mean_ElectronAffinity', 'wtd_mean_ElectronAffinity',\n",
      "       'gmean_ElectronAffinity', 'wtd_gmean_ElectronAffinity',\n",
      "       'entropy_ElectronAffinity', 'wtd_entropy_ElectronAffinity',\n",
      "       'range_ElectronAffinity', 'wtd_range_ElectronAffinity',\n",
      "       'std_ElectronAffinity', 'wtd_std_ElectronAffinity', 'mean_FusionHeat',\n",
      "       'wtd_mean_FusionHeat', 'gmean_FusionHeat', 'wtd_gmean_FusionHeat',\n",
      "       'entropy_FusionHeat', 'wtd_entropy_FusionHeat', 'range_FusionHeat',\n",
      "       'wtd_range_FusionHeat', 'std_FusionHeat', 'wtd_std_FusionHeat',\n",
      "       'mean_ThermalConductivity', 'wtd_mean_ThermalConductivity',\n",
      "       'gmean_ThermalConductivity', 'wtd_gmean_ThermalConductivity',\n",
      "       'entropy_ThermalConductivity', 'wtd_entropy_ThermalConductivity',\n",
      "       'range_ThermalConductivity', 'wtd_range_ThermalConductivity',\n",
      "       'std_ThermalConductivity', 'wtd_std_ThermalConductivity',\n",
      "       'mean_Valence', 'wtd_mean_Valence', 'gmean_Valence',\n",
      "       'wtd_gmean_Valence', 'entropy_Valence', 'wtd_entropy_Valence',\n",
      "       'range_Valence', 'wtd_range_Valence', 'std_Valence', 'wtd_std_Valence',\n",
      "       'critical_temp'],\n",
      "      dtype='object')\n"
     ]
    }
   ],
   "source": [
    "## Packages \n",
    "import pandas as pd\n",
    "\n",
    "feature_categories = [\"mean_atomic_mass\"]\n",
    "\n",
    "raw_material_features = pd.read_csv(\"train.csv\")\n",
    "print(f\"number of nans: {raw_material_features.isna().sum().sum()}\")\n",
    "print(raw_material_features.columns)\n",
    "\n",
    "drop_columns_features = []"
   ]
  },
  {
   "cell_type": "code",
   "execution_count": null,
   "id": "b5827db1-7f2a-456a-817d-0667d7b4426a",
   "metadata": {},
   "outputs": [],
   "source": [
    "### Linear Regression Model (Perhaps Gradient Boosting -imogen)"
   ]
  },
  {
   "cell_type": "code",
   "execution_count": null,
   "id": "7446f9dd-b5a3-448f-b7a0-bfd517936e01",
   "metadata": {},
   "outputs": [
    {
     "name": "stdout",
     "output_type": "stream",
     "text": [
      "RMSE: 10.49\n"
     ]
    }
   ],
   "source": [
    "### Random Forest Regression\n",
    "from sklearn.model_selection import train_test_split\n",
    "from sklearn.ensemble import RandomForestRegressor\n",
    "from sklearn.metrics import mean_squared_error\n",
    "import pandas as pd\n",
    "import numpy as np\n",
    "\n",
    "target = \"critical_temp\"  # Replace with your actual target column name\n",
    "# non_impactful_features = []  # Replace with your actual non-impactful features\n",
    "\n",
    "data = pd.read_csv(\"train.csv\")\n",
    "# data.drop(columns=non_impactful_features, inplace=True)\n",
    "X = data.drop(columns=[target])\n",
    "y = data[target]\n",
    "\n",
    "X_train, X_test, y_train, y_test = train_test_split(\n",
    "    X, y, test_size=0.2, random_state=69\n",
    ")\n",
    "\n",
    "random_forest = RandomForestRegressor(\n",
    "    n_estimators=100,\n",
    "    max_depth=10,\n",
    "    min_samples_split=2,\n",
    "    min_samples_leaf=1,\n",
    "    # max_features=\"auto\",\n",
    "    bootstrap=True,\n",
    "    random_state=42,\n",
    ")\n",
    "\n",
    "random_forest.fit(X_train, y_train)\n",
    "y_pred = random_forest.predict(X_test)\n",
    "\n",
    "rmse = np.sqrt(mean_squared_error(y_test, y_pred))\n",
    "print(f\"RMSE: {rmse:.2f}\")"
   ]
  },
  {
   "cell_type": "code",
   "execution_count": null,
   "id": "3705d489-1d13-4fc8-a2d4-dada73499289",
   "metadata": {},
   "outputs": [],
   "source": [
    "### Multilayer Perceptron"
   ]
  },
  {
   "cell_type": "markdown",
   "id": "eb15c6b0-d122-422e-86f4-b7837d6b4884",
   "metadata": {},
   "source": [
    "### Subproblem A: Training regression models to predict the critical temperature from various material properties"
   ]
  },
  {
   "cell_type": "code",
   "execution_count": null,
   "id": "a3e4a6b9-3ea9-49c4-b128-f05939ec09d6",
   "metadata": {},
   "outputs": [],
   "source": [
    "### Convolution Neural Network"
   ]
  },
  {
   "cell_type": "markdown",
   "id": "79344d5d-bf8e-4033-8422-9e7b59d8640e",
   "metadata": {},
   "source": [
    "### Subproblem B: Training regression models to predict chemical formulas from material properties"
   ]
  },
  {
   "cell_type": "code",
   "execution_count": 13,
   "id": "80122343-ddc0-43ef-9422-5902c4b45110",
   "metadata": {
    "scrolled": true
   },
   "outputs": [
    {
     "name": "stdout",
     "output_type": "stream",
     "text": [
      "number of nans: 0\n",
      "         H  He   Li   Be    B    C    N     O    F  Ne  ...  wtd_mean_Valence  \\\n",
      "0      0.0   0  0.0  0.0  0.0  0.0  0.0   4.0  0.0   0  ...          2.257143   \n",
      "1      0.0   0  0.0  0.0  0.0  0.0  0.0   4.0  0.0   0  ...          2.257143   \n",
      "2      0.0   0  0.0  0.0  0.0  0.0  0.0   4.0  0.0   0  ...          2.271429   \n",
      "3      0.0   0  0.0  0.0  0.0  0.0  0.0   4.0  0.0   0  ...          2.264286   \n",
      "4      0.0   0  0.0  0.0  0.0  0.0  0.0   4.0  0.0   0  ...          2.242857   \n",
      "...    ...  ..  ...  ...  ...  ...  ...   ...  ...  ..  ...               ...   \n",
      "21258  0.0   0  0.0  0.0  0.0  0.0  0.0   0.0  0.0   0  ...          3.555556   \n",
      "21259  0.0   0  0.0  0.0  0.0  0.0  0.0  11.0  0.0   0  ...          2.047619   \n",
      "21260  0.0   0  0.0  0.0  0.0  0.0  0.0   0.0  0.0   0  ...          4.800000   \n",
      "21261  0.0   0  0.0  0.0  0.0  0.0  0.0   0.0  0.0   0  ...          4.690000   \n",
      "21262  0.0   0  0.0  0.0  0.0  0.0  0.0   0.0  0.0   0  ...          4.500000   \n",
      "\n",
      "       gmean_Valence  wtd_gmean_Valence  entropy_Valence  wtd_entropy_Valence  \\\n",
      "0           2.213364           2.219783         1.368922             1.066221   \n",
      "1           1.888175           2.210679         1.557113             1.047221   \n",
      "2           2.213364           2.232679         1.368922             1.029175   \n",
      "3           2.213364           2.226222         1.368922             1.048834   \n",
      "4           2.213364           2.206963         1.368922             1.096052   \n",
      "...              ...                ...              ...                  ...   \n",
      "21258       3.223710           3.519911         1.377820             0.913658   \n",
      "21259       2.168944           2.038991         1.594167             1.337246   \n",
      "21260       4.472136           4.781762         0.686962             0.450561   \n",
      "21261       4.472136           4.665819         0.686962             0.577601   \n",
      "21262       4.762203           4.242641         1.054920             0.970116   \n",
      "\n",
      "       range_Valence  wtd_range_Valence  std_Valence  wtd_std_Valence  \\\n",
      "0                  1           1.085714     0.433013         0.437059   \n",
      "1                  2           1.128571     0.632456         0.468606   \n",
      "2                  1           1.114286     0.433013         0.444697   \n",
      "3                  1           1.100000     0.433013         0.440952   \n",
      "4                  1           1.057143     0.433013         0.428809   \n",
      "...              ...                ...          ...              ...   \n",
      "21258              1           2.168889     0.433013         0.496904   \n",
      "21259              1           0.904762     0.400000         0.212959   \n",
      "21260              1           3.200000     0.500000         0.400000   \n",
      "21261              1           2.210000     0.500000         0.462493   \n",
      "21262              3           1.800000     1.414214         1.500000   \n",
      "\n",
      "       critical_temp  \n",
      "0              29.00  \n",
      "1              26.00  \n",
      "2              19.00  \n",
      "3              22.00  \n",
      "4              23.00  \n",
      "...              ...  \n",
      "21258           2.44  \n",
      "21259         122.10  \n",
      "21260           1.98  \n",
      "21261           1.84  \n",
      "21262          12.80  \n",
      "\n",
      "[21263 rows x 168 columns]\n"
     ]
    }
   ],
   "source": [
    "import pandas as pd\n",
    "\n",
    "raw_material_formulas = pd.read_csv(\"unique_m.csv\")\n",
    "print(f\"number of nans: {raw_material_formulas.isna().sum().sum()}\")\n",
    "\n",
    "drop_columns_formula = [\"critical_temp\", \"material\"]\n",
    "material_composition = raw_material_formulas.drop(columns=drop_columns_properties)\n",
    "\n",
    "material_features_and_formulas = pd.concat([material_composition, raw_material_features], axis=1)\n",
    "\n"
   ]
  },
  {
   "cell_type": "code",
   "execution_count": null,
   "id": "bd37b8e6-e010-4044-862b-2db951138b21",
   "metadata": {},
   "outputs": [],
   "source": [
    "### Linear Regression Model (Perhaps Gradient Boosting -imogen)"
   ]
  },
  {
   "cell_type": "code",
   "execution_count": null,
   "id": "3e2b4486-90d5-4464-9cb2-c753b0239ea1",
   "metadata": {},
   "outputs": [],
   "source": [
    "### Random Forest Regression"
   ]
  },
  {
   "cell_type": "code",
   "execution_count": null,
   "id": "503e4204-c780-4dc8-8378-50372e65a60f",
   "metadata": {},
   "outputs": [],
   "source": [
    "### Multilayer Perceptron"
   ]
  },
  {
   "cell_type": "code",
   "execution_count": null,
   "id": "d04e41dd-89d5-41e2-93e0-478d92b83218",
   "metadata": {},
   "outputs": [],
   "source": [
    "### Convolution Neural Network"
   ]
  },
  {
   "cell_type": "markdown",
   "id": "6153bb52-b929-4814-a7e2-fe244919302e",
   "metadata": {},
   "source": [
    "### Finding candidate meterials that could have high ciritical temperatures "
   ]
  },
  {
   "cell_type": "code",
   "execution_count": null,
   "id": "3883be03-03f2-4663-b093-67e6ed910cb2",
   "metadata": {},
   "outputs": [],
   "source": [
    "# IDK yet lmao"
   ]
  }
 ],
 "metadata": {
  "kernelspec": {
   "display_name": "Python 3",
   "language": "python",
   "name": "python3"
  },
  "language_info": {
   "codemirror_mode": {
    "name": "ipython",
    "version": 3
   },
   "file_extension": ".py",
   "mimetype": "text/x-python",
   "name": "python",
   "nbconvert_exporter": "python",
   "pygments_lexer": "ipython3",
   "version": "3.13.3"
  }
 },
 "nbformat": 4,
 "nbformat_minor": 5
}
